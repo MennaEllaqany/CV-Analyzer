{
 "cells": [
  {
   "cell_type": "code",
   "execution_count": null,
   "metadata": {},
   "outputs": [],
   "source": [
    "#Import and declare TIC\n",
    "\n",
    "%matplotlib widget\n",
    "import matplotlib.pyplot as plt\n",
    "import numpy as np\n",
    "import pandas as pd\n",
    "import lightkurve as lk\n",
    "from scipy.interpolate import make_interp_spline as spline\n",
    "import scipy.signal as signal\n",
    "import matplotlib\n",
    "\n",
    "plt.style.use('seaborn-v0_8-darkgrid')\n",
    "\n",
    "TIC = 'TIC 337646214'\n",
    "\n",
    "#Download the data and stitch it together\n",
    "search_results = lk.search_lightcurve(TIC, cadence='short', author='SPOC')\n",
    "print(search_results)\n",
    "\n",
    "#use_till = 4\n",
    "\n",
    "used_result = search_results\n",
    "lc = used_result.download_all().stitch()\n",
    "\n",
    "\n",
    "lc.plot()"
   ]
  },
  {
   "cell_type": "code",
   "execution_count": null,
   "metadata": {},
   "outputs": [],
   "source": [
    "from scipy.optimize import curve_fit\n",
    "\n",
    "def gaussian(x, amp, cen, wid):\n",
    "    return amp * np.exp(-(x - cen)**2 / (2 * wid**2))\n",
    "\n",
    "periodogram = lc.to_periodogram()\n",
    "x = periodogram.frequency.value\n",
    "y = periodogram.power.value\n",
    "    \n",
    "# Remove invalid values (infs and NaNs) from y and x arrays\n",
    "mask_valid = ~np.isnan(y) & ~np.isinf(y)\n",
    "x = x[mask_valid]\n",
    "y = y[mask_valid]\n",
    "\n",
    "# Fitting the curve to the data\n",
    "initial_guess = [max(y), x[np.argmax(y)], 1]  # Initial guess for the parameters\n",
    "popt, pcov = curve_fit(gaussian, x, y, p0=initial_guess)\n",
    "\n",
    "#Get fitted values\n",
    "amp_fitted, cen_fitted, wid_fitted = popt\n",
    "amp_fitted = max(y)\n",
    "\n",
    "y_fitted = gaussian(x, amp_fitted, cen_fitted, wid_fitted)\n",
    "\n",
    "fig_LS, ax_LS = plt.subplots(1, 1, num=4)\n",
    "periodogram.plot(ax=ax_LS)\n",
    "ax_LS.plot(x, y_fitted, 'r-', label='Gaussian Fit')\n",
    "ax_LS.set_xlabel(r'${\\rm Frequency~[c/d]}$', fontsize=14)\n",
    "ax_LS.set_ylabel(r'${\\rm Amplitude}$', fontsize=14)\n",
    "ax_LS.set_xlim(1, 350)\n",
    "ax_LS.legend()\n",
    "plt.show()\n",
    "\n",
    "print(f'Fitted parameters:\\nAmplitude: {amp_fitted}\\nCenter: {cen_fitted}\\nWidth: {wid_fitted}')"
   ]
  },
  {
   "cell_type": "code",
   "execution_count": null,
   "metadata": {},
   "outputs": [],
   "source": []
  }
 ],
 "metadata": {
  "kernelspec": {
   "display_name": "Python 3",
   "language": "python",
   "name": "python3"
  },
  "language_info": {
   "codemirror_mode": {
    "name": "ipython",
    "version": 3
   },
   "file_extension": ".py",
   "mimetype": "text/x-python",
   "name": "python",
   "nbconvert_exporter": "python",
   "pygments_lexer": "ipython3",
   "version": "3.11.9"
  }
 },
 "nbformat": 4,
 "nbformat_minor": 2
}

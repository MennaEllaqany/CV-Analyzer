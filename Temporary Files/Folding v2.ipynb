{
 "cells": [
  {
   "cell_type": "code",
   "execution_count": null,
   "metadata": {},
   "outputs": [],
   "source": [
    "#Import modules and declare TIC\n",
    "\n",
    "%matplotlib widget\n",
    "\n",
    "import matplotlib.pyplot as plt\n",
    "import numpy as np\n",
    "import pandas as pd\n",
    "import lightkurve as lk\n",
    "from scipy.interpolate import make_interp_spline as spline\n",
    "import scipy.signal as signal\n",
    "import matplotlib\n",
    "import plotly.express as px\n",
    "from astropy.time.core import Time\n",
    "\n",
    "plt.style.use('seaborn-v0_8-darkgrid')\n",
    "\n",
    "TIC = 'TIC 219107776'"
   ]
  },
  {
   "cell_type": "code",
   "execution_count": null,
   "metadata": {},
   "outputs": [],
   "source": [
    "#Download the data and stitch it together\n",
    "\n",
    "search_results = lk.search_lightcurve(TIC, cadence='short', author='SPOC')\n",
    "\n",
    "#Enter the data index to be used                                                                                        [INPUT NEEDED]\n",
    "use_till = 5\n",
    "\n",
    "lcs = []\n",
    "for i in range(use_till):\n",
    "    try:\n",
    "        lcs.append(search_results[i].download(quality_bitmask='hardest'))\n",
    "    except:\n",
    "        pass\n",
    "\n",
    "search_results\n"
   ]
  },
  {
   "cell_type": "code",
   "execution_count": null,
   "metadata": {},
   "outputs": [],
   "source": [
    "flux = np.array(lcs[0].flux, dtype=float)\n",
    "time = np.array(lcs[0].time.jd)\n",
    "\n",
    "flux = np.append(flux, np.array(lcs[1].flux, dtype=float))\n",
    "time = np.append(time, np.array(lcs[1].time.jd))\n",
    "\n",
    "cadence_in_days = ((np.median(np.diff(time[:100])) * 86400).round())/86400"
   ]
  },
  {
   "cell_type": "code",
   "execution_count": null,
   "metadata": {},
   "outputs": [],
   "source": [
    "plt.figure(figsize = (15, 5))\n",
    "plt.plot(time, flux, 'k.', lw = 0.5)\n",
    "plt.plot(time, signal.savgol_filter(flux, 1000, 4), 'r', lw = 0.5)\n",
    "plt.plot(time_smooth, flux_smooth, 'b', lw = 0.5)\n",
    "plt.plot(peaktimes, range(len(peaktimes)), 'x')\n",
    "plt.show()"
   ]
  },
  {
   "cell_type": "code",
   "execution_count": null,
   "metadata": {},
   "outputs": [],
   "source": [
    "time_smooth = np.linspace(time.min(), time.max(), len(time) * 8)\n",
    "flux_smooth = spline(time, flux, k = 3)(time_smooth)"
   ]
  },
  {
   "cell_type": "code",
   "execution_count": null,
   "metadata": {},
   "outputs": [],
   "source": [
    "plt.figure()\n",
    "plt.plot(np.diff(time))\n",
    "\n",
    "peaks, p = signal.find_peaks(np.diff(time), height = cadence_in_days * 10)\n",
    "peaks\n",
    "plt.plot(peaks, p['peak_heights'], 'x')\n",
    "p['peak_heights']\n",
    "plt.show()\n",
    "peaktimes = time[peaks]\n"
   ]
  },
  {
   "cell_type": "code",
   "execution_count": null,
   "metadata": {},
   "outputs": [],
   "source": [
    "print(len(peaks), len(p['peak_heights']))"
   ]
  },
  {
   "cell_type": "code",
   "execution_count": null,
   "metadata": {},
   "outputs": [],
   "source": [
    "print(len(peaktimes))"
   ]
  },
  {
   "cell_type": "code",
   "execution_count": null,
   "metadata": {},
   "outputs": [],
   "source": [
    "for i in peaks:\n",
    "    t = np.array(time[i], time[i+1])\n",
    "    f = np.array(flux[i], flux[i+1])\n",
    "    df = pd.DataFrame({'time': t, 'flux': f})\n",
    "    df.set_index('time', inplace = True)\n",
    "    df = df.reindex(np.arange(time[i], time[i+1], cadence_in_days))\n",
    "    df.interpolate(inplace = True)\n",
    "    df.reset_index(inplace = True)"
   ]
  },
  {
   "cell_type": "code",
   "execution_count": null,
   "metadata": {},
   "outputs": [],
   "source": []
  },
  {
   "cell_type": "code",
   "execution_count": null,
   "metadata": {},
   "outputs": [],
   "source": [
    "px.line(x = time, y = signal.savgol_filter(flux, 101, 3)).show()"
   ]
  }
 ],
 "metadata": {
  "kernelspec": {
   "display_name": "Python 3",
   "language": "python",
   "name": "python3"
  },
  "language_info": {
   "codemirror_mode": {
    "name": "ipython",
    "version": 3
   },
   "file_extension": ".py",
   "mimetype": "text/x-python",
   "name": "python",
   "nbconvert_exporter": "python",
   "pygments_lexer": "ipython3",
   "version": "3.11.9"
  }
 },
 "nbformat": 4,
 "nbformat_minor": 2
}

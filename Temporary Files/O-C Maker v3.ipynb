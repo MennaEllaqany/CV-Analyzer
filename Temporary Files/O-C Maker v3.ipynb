{
 "cells": [
  {
   "cell_type": "code",
   "execution_count": null,
   "metadata": {},
   "outputs": [],
   "source": [
    "%matplotlib widget\n",
    "import matplotlib.pyplot as plt\n",
    "import numpy as np\n",
    "import pandas as pd\n",
    "import lightkurve as lk\n",
    "from modules import *\n",
    "from astropy.table import Table\n",
    "\n",
    "plt.style.use('seaborn-v0_8-darkgrid')\n",
    "\n",
    "TIC = 'TIC 219107776'"
   ]
  },
  {
   "cell_type": "code",
   "execution_count": null,
   "metadata": {},
   "outputs": [],
   "source": [
    "lcs = get_lightcurves(TIC, author = 'SPOC', cadence='short')"
   ]
  },
  {
   "cell_type": "code",
   "execution_count": null,
   "metadata": {},
   "outputs": [],
   "source": [
    "lc = pd.DataFrame({'time': lcs[1].time.btjd, 'flux': np.array(lcs[1].flux, dtype='f')})\n",
    "lc.info()\n",
    "lc.dropna(inplace=True)\n",
    "lc.info()"
   ]
  },
  {
   "cell_type": "code",
   "execution_count": null,
   "metadata": {},
   "outputs": [],
   "source": [
    "def straight_lines_t(lightcurve : lk.lightcurve.LightCurve, cadence_magnifier : int = 4) -> lk.lightcurve.LightCurve:\n",
    "    '''\n",
    "    Takes in a lightcurve and fills the gaps with a straight line\n",
    "    ANDDDDDD smoothens the lightcurve with a spline interpolation with a factor of `cadence_magnifier`.\n",
    "\n",
    "    Returns a lightcurve\n",
    "    '''\n",
    "\n",
    "    #BASICS\n",
    "    flux = np.array(lightcurve.flux)\n",
    "    time = np.array(lightcurve.time.jd)\n",
    "    cadence_in_days = ((np.median(np.diff(time[:100])) * 86400).round())/86400\n",
    "    lc = pd.DataFrame({'time': time, 'flux': flux})\n",
    "\n",
    "    #PEAKS\n",
    "    peaks, _ = signal.find_peaks(np.diff(time), height = cadence_in_days * 10)\n",
    "    print(\"The gaps are at time(s):\", peaks)\n",
    "\n",
    "    #Filling the Gaps\n",
    "    for i in peaks:\n",
    "        t = (time[i], time[i+1])\n",
    "        f = (flux[i], flux[i+1])\n",
    "        df = pd.DataFrame({'time': t, 'flux': f})\n",
    "        df.set_index('time', inplace = True)\n",
    "        df = df.reindex(np.arange(time[i], time[i+1], cadence_in_days))\n",
    "        df['flux'] = df['flux'].interpolate('linear')\n",
    "        df.reset_index(inplace = True)\n",
    "        df.rename(columns={'index':'time'}, inplace=True)\n",
    "        lc = pd.concat([df[1:-1], lc]).sort_values('time')\n",
    "\n",
    "    time_final = np.array(lc['time'])\n",
    "    flux_final = np.array(lc['flux'])\n",
    "    time_smooth = np.linspace(time_final.min(), time_final.max(), len(time_final) * cadence_magnifier)\n",
    "    print(np.isnan(flux_final).any())\n",
    "    print(np.isnan(time_final).any())\n",
    "    print(np.isnan(time_smooth).any())\n",
    "    print(np.isinf(flux_final).any())\n",
    "    print(np.isinf(time_final).any())\n",
    "    print(np.isinf(time_smooth).any())\n",
    "    flux_smooth = spline(time_final, flux_final, k = 3)(time_smooth)\n",
    "\n",
    "    # lightcurve.flux, lightcurve.time = flux_smooth, time_smooth\n",
    "\n",
    "    disposable_lightcurve = lk.LightCurve(time = time_smooth, flux = flux_smooth)\n",
    "    disposable_lightcurve.time.format = 'btjd' \n",
    "\n",
    "    return disposable_lightcurve"
   ]
  },
  {
   "cell_type": "code",
   "execution_count": null,
   "metadata": {},
   "outputs": [],
   "source": [
    "new_lcs = []\n",
    "\n",
    "for lc in lcs:\n",
    "    new_lc = straight_lines_t(lc)\n",
    "    new_lcs.append(new_lc)\n",
    "    new_lc.plot()\n"
   ]
  },
  {
   "cell_type": "code",
   "execution_count": null,
   "metadata": {},
   "outputs": [],
   "source": [
    "df = pd.DataFrame({'time':np.array(lcs[0].time.btjd), 'flux' : np.array(lcs[0].flux)})\n",
    "df.dropna(inplace=True)\n",
    "df.sort_values(by='time', inplace=True)\n",
    "\n",
    "print(df.info())\n",
    "\n",
    "df.plot(x='time', y='flux', lw=0.5, title=TIC)"
   ]
  },
  {
   "cell_type": "code",
   "execution_count": null,
   "metadata": {},
   "outputs": [],
   "source": [
    "df"
   ]
  }
 ],
 "metadata": {
  "kernelspec": {
   "display_name": "Python 3",
   "language": "python",
   "name": "python3"
  },
  "language_info": {
   "codemirror_mode": {
    "name": "ipython",
    "version": 3
   },
   "file_extension": ".py",
   "mimetype": "text/x-python",
   "name": "python",
   "nbconvert_exporter": "python",
   "pygments_lexer": "ipython3",
   "version": "3.11.9"
  }
 },
 "nbformat": 4,
 "nbformat_minor": 2
}

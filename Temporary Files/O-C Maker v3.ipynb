{
 "cells": [
  {
   "cell_type": "code",
   "execution_count": null,
   "metadata": {},
   "outputs": [],
   "source": [
    "%matplotlib widget\n",
    "import matplotlib.pyplot as plt\n",
    "import numpy as np\n",
    "import pandas as pd\n",
    "import lightkurve as lk\n",
    "from modules import *\n",
    "from astropy.table import Table\n",
    "\n",
    "plt.style.use('seaborn-v0_8-darkgrid')\n",
    "\n",
    "TIC = 'TIC 219107776'"
   ]
  },
  {
   "cell_type": "code",
   "execution_count": null,
   "metadata": {},
   "outputs": [],
   "source": [
    "lcs = get_lightcurves(TIC, author = 'SPOC', cadence='short', use_till=2)\n"
   ]
  },
  {
   "cell_type": "code",
   "execution_count": null,
   "metadata": {},
   "outputs": [],
   "source": [
    "new_lcs = []\n",
    "\n",
    "for lc in lcs:\n",
    "    # new_lc = straight_lines(lc, cadence_magnifier= 4)\n",
    "\n",
    "\n",
    "    df = pd.DataFrame({'time': lc.time.jd, 'flux': np.array(lc.flux, dtype='f')})\n",
    "    df.dropna(inplace=True)\n",
    "    lg = lk.LightCurve(time= df['time'], flux= df['flux'])\n",
    "    new_lc = lg\n",
    "\n",
    "\n",
    "    new_lc = apply_savgol_filter(new_lc.time.jd, new_lc.flux, want = 'lc', displaygraphs= True, window_length_for_remove=1500)\n",
    "    new_lcs.append(new_lc)\n",
    "    new_lc.plot()"
   ]
  }
 ],
 "metadata": {
  "kernelspec": {
   "display_name": "Python 3",
   "language": "python",
   "name": "python3"
  },
  "language_info": {
   "codemirror_mode": {
    "name": "ipython",
    "version": 3
   },
   "file_extension": ".py",
   "mimetype": "text/x-python",
   "name": "python",
   "nbconvert_exporter": "python",
   "pygments_lexer": "ipython3",
   "version": "3.11.9"
  }
 },
 "nbformat": 4,
 "nbformat_minor": 2
}
